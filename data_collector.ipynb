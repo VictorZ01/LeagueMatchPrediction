{
 "cells": [
  {
   "cell_type": "code",
   "execution_count": 1,
   "metadata": {},
   "outputs": [],
   "source": [
    "from dotenv import load_dotenv\n",
    "import os\n",
    "\n",
    "load_dotenv()\n",
    "api_key = os.environ.get('riot_api_key')\n"
   ]
  },
  {
   "cell_type": "code",
   "execution_count": 2,
   "metadata": {},
   "outputs": [],
   "source": [
    "import pygsheets \n",
    "google_url = os.environ.get('google_url')\n",
    "service_account = pygsheets.authorize(service_account_file = 'JSONS\\\\spreadsheet-automator-447604-0758cb3da318.json')\n",
    "sheet = service_account.open_by_url(google_url)"
   ]
  },
  {
   "cell_type": "code",
   "execution_count": 3,
   "metadata": {},
   "outputs": [],
   "source": [
    "import pandas as pd \n",
    "import requests\n",
    "import time\n",
    "def getLadder(rank,division):\n",
    "    divisions = ['II','III','IV']\n",
    "    page = pd.DataFrame()\n",
    "    root = 'https://na1.api.riotgames.com/'\n",
    "    meta = f'lol/league/v4/entries/RANKED_SOLO_5x5/{rank}/{division}?page=1'\n",
    "    api_url = root + meta + '&api_key=' + api_key\n",
    "    api_response = requests.get(api_url)\n",
    "    api_df = pd.DataFrame(api_response.json())\n",
    "    page = pd.concat([page,api_df])\n",
    "    page_num = 2 \n",
    "    while not api_df.empty:\n",
    "        meta = f'lol/league/v4/entries/RANKED_SOLO_5x5/{rank}/{division}?page={page_num}'\n",
    "        api_url = root + meta + '&api_key=' + api_key\n",
    "        api_response = requests.get(api_url)\n",
    "        api_df = pd.DataFrame(api_response.json())\n",
    "        page = pd.concat([page,api_df])\n",
    "        page_num+=1\n",
    "        time.sleep(1)\n",
    "    return page"
   ]
  },
  {
   "cell_type": "code",
   "execution_count": 4,
   "metadata": {},
   "outputs": [],
   "source": [
    "def get_puuid(summoner_id):\n",
    "    root = 'https://na1.api.riotgames.com/lol/summoner/v4/summoners/'\n",
    "    api_url = root + summoner_id + '?api_key=' + api_key\n",
    "    page = requests.get(api_url)\n",
    "    return page.json()['puuid']"
   ]
  },
  {
   "cell_type": "code",
   "execution_count": 25,
   "metadata": {},
   "outputs": [],
   "source": [
    "if os.path.exists('ironLadder.csv'):\n",
    "    ironLadder = pd.read_csv('ironLadder.csv')\n",
    "else:\n",
    "    ironLadder = getLadder('IRON','I').sort_values('leaguePoints',ascending=False).reset_index(drop=True)\n",
    "    ironLadder.to_csv('ironLadder.csv',index=False)\n",
    "    print('Not found')"
   ]
  },
  {
   "cell_type": "code",
   "execution_count": 18,
   "metadata": {},
   "outputs": [],
   "source": [
    "def getMatch(matchID):\n",
    "    root = 'https://americas.api.riotgames.com/lol/match/v5/matches/'\n",
    "    middle = '?api_key='\n",
    "    api_url = root + matchID + middle + api_key\n",
    "    time.sleep(1)\n",
    "    return requests.get(api_url).json()"
   ]
  },
  {
   "cell_type": "code",
   "execution_count": 16,
   "metadata": {},
   "outputs": [],
   "source": [
    "def getListMatches(puuid,start,end):\n",
    "    root = 'https://americas.api.riotgames.com/lol/match/v5/matches/by-puuid/'\n",
    "    middle = '/ids?type=ranked&'\n",
    "    part = 'start='+str(start)+'&count='+str(end)\n",
    "    api_url = root +str(puuid)+middle + part + '&api_key=' + api_key\n",
    "    page = requests.get(api_url).json()\n",
    "    time.sleep(1)\n",
    "    return page "
   ]
  },
  {
   "cell_type": "code",
   "execution_count": null,
   "metadata": {},
   "outputs": [],
   "source": [
    "def getKDA(information):\n",
    "    kda = 0\n",
    "    return kda"
   ]
  },
  {
   "cell_type": "code",
   "execution_count": null,
   "metadata": {},
   "outputs": [],
   "source": [
    "def getCS(information):\n",
    "    cs = 0\n",
    "    return cs"
   ]
  },
  {
   "cell_type": "code",
   "execution_count": 30,
   "metadata": {},
   "outputs": [
    {
     "ename": "SyntaxError",
     "evalue": "incomplete input (995184217.py, line 4)",
     "output_type": "error",
     "traceback": [
      "\u001b[1;36m  Cell \u001b[1;32mIn[30], line 4\u001b[1;36m\u001b[0m\n\u001b[1;33m    \u001b[0m\n\u001b[1;37m    ^\u001b[0m\n\u001b[1;31mSyntaxError\u001b[0m\u001b[1;31m:\u001b[0m incomplete input\n"
     ]
    }
   ],
   "source": [
    "# For each person in the ladder, look at their 0 - 10 games and get their average cs, KDA\n",
    "average_iron_1 = {'puuid':[],'KDA':[],'CS':[]}\n",
    "for i in ironLadder.itertuples():\n",
    "    puuid = get_puuid(i.summonerId)\n",
    "    matches = getListMatches(puuid=puuid,start = 10,end = 20)\n",
    "    kda_mean = 0 \n",
    "    cs_mean = 0 \n",
    "    for m in matches:\n",
    "        information = getMatch(m)\n",
    "        kda = getKDA(information)\n",
    "        cs = getCS(information)\n",
    "        kda_mean += kda\n",
    "        cs_mean += cs\n",
    "        time.sleep(5)\n",
    "    kda_mean= kda_mean/10\n",
    "    cs_mean = cs_mean/10\n",
    "    new_row = pd.DataFrame({'puuid':puuid,'KDA':kda_mean,'CS':cs_mean})\n",
    "    average_iron_1 = pd.concat([average_iron_1,new_row],ignore_index=True)"
   ]
  },
  {
   "cell_type": "code",
   "execution_count": null,
   "metadata": {},
   "outputs": [],
   "source": []
  }
 ],
 "metadata": {
  "kernelspec": {
   "display_name": "venv",
   "language": "python",
   "name": "python3"
  },
  "language_info": {
   "codemirror_mode": {
    "name": "ipython",
    "version": 3
   },
   "file_extension": ".py",
   "mimetype": "text/x-python",
   "name": "python",
   "nbconvert_exporter": "python",
   "pygments_lexer": "ipython3",
   "version": "3.12.3"
  }
 },
 "nbformat": 4,
 "nbformat_minor": 2
}
