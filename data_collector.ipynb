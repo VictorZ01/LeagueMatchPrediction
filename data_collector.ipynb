{
 "cells": [
  {
   "cell_type": "code",
   "execution_count": 1,
   "metadata": {},
   "outputs": [],
   "source": [
    "from dotenv import load_dotenv\n",
    "import os\n",
    "\n",
    "load_dotenv()\n",
    "api_key = os.environ.get('riot_api_key')\n"
   ]
  },
  {
   "cell_type": "code",
   "execution_count": 2,
   "metadata": {},
   "outputs": [],
   "source": [
    "import pygsheets \n",
    "google_url = os.environ.get('google_url')\n",
    "service_account = pygsheets.authorize(service_account_file = 'JSONS\\\\spreadsheet-automator-447604-0758cb3da318.json')\n",
    "sheet = service_account.open_by_url(google_url)"
   ]
  },
  {
   "cell_type": "code",
   "execution_count": 3,
   "metadata": {},
   "outputs": [],
   "source": [
    "import pandas as pd \n",
    "import requests\n",
    "import time\n",
    "def getLadder(rank,division):\n",
    "    divisions = ['II','III','IV']\n",
    "    page = pd.DataFrame()\n",
    "    root = 'https://na1.api.riotgames.com/'\n",
    "    meta = f'lol/league/v4/entries/RANKED_SOLO_5x5/{rank}/{division}?page=1'\n",
    "    api_url = root + meta + '&api_key=' + api_key\n",
    "    api_response = requests.get(api_url)\n",
    "    api_df = pd.DataFrame(api_response.json())\n",
    "    page = pd.concat([page,api_df])\n",
    "    page_num = 2 \n",
    "    while not api_df.empty:\n",
    "        meta = f'lol/league/v4/entries/RANKED_SOLO_5x5/{rank}/{division}?page={page_num}'\n",
    "        api_url = root + meta + '&api_key=' + api_key\n",
    "        api_response = requests.get(api_url)\n",
    "        api_df = pd.DataFrame(api_response.json())\n",
    "        page = pd.concat([page,api_df])\n",
    "        page_num+=1\n",
    "        time.sleep(1)\n",
    "    return page"
   ]
  },
  {
   "cell_type": "code",
   "execution_count": 4,
   "metadata": {},
   "outputs": [],
   "source": [
    "def get_puuid(summoner_id):\n",
    "    root = 'https://na1.api.riotgames.com/lol/summoner/v4/summoners/'\n",
    "    api_url = root + summoner_id + '?api_key=' + api_key\n",
    "    page = requests.get(api_url)\n",
    "    return page.json()['puuid']"
   ]
  },
  {
   "cell_type": "code",
   "execution_count": 5,
   "metadata": {},
   "outputs": [],
   "source": [
    "if os.path.exists('ironLadder.csv'):\n",
    "    ironLadder = pd.read_csv('ironLadder.csv')\n",
    "else:\n",
    "    ironLadder = getLadder('IRON','I').sort_values('leaguePoints',ascending=False).reset_index(drop=True)\n",
    "    ironLadder.to_csv('ironLadder.csv',index=False)\n",
    "    print('Not found')"
   ]
  },
  {
   "cell_type": "code",
   "execution_count": 6,
   "metadata": {},
   "outputs": [],
   "source": [
    "def getMatch(matchID):\n",
    "    root = 'https://americas.api.riotgames.com/lol/match/v5/matches/'\n",
    "    middle = '?api_key='\n",
    "    api_url = root + matchID + middle + api_key\n",
    "    time.sleep(1)\n",
    "    result = requests.get(api_url)\n",
    "    if result.status_code != 200:\n",
    "        raise Exception(\"Status Code:\",result.status_code)\n",
    "    \n",
    "    return result.json()"
   ]
  },
  {
   "cell_type": "code",
   "execution_count": 7,
   "metadata": {},
   "outputs": [],
   "source": [
    "def getListMatches(puuid,start,count):\n",
    "    root = 'https://americas.api.riotgames.com/lol/match/v5/matches/by-puuid/'\n",
    "    middle = '/ids?type=ranked&'\n",
    "    part = 'start='+str(start)+'&count='+str(count)\n",
    "    api_url = root +str(puuid)+middle + part + '&api_key=' + api_key\n",
    "    page = requests.get(api_url).json()\n",
    "    return page "
   ]
  },
  {
   "cell_type": "code",
   "execution_count": 8,
   "metadata": {},
   "outputs": [],
   "source": [
    "def getKDA(information,puuid):\n",
    "    kda = 0\n",
    "    try:\n",
    "        participant = information['metadata']['participants'].index(puuid)\n",
    "        kills = information['info']['participants'][participant]['kills']\n",
    "        deaths = information['info']['participants'][participant]['deaths']\n",
    "        assists = information['info']['participants'][participant]['assists']\n",
    "        #print(information['info']['participants'][participant]['championName'])\n",
    "        return (kills+assists)/max(deaths,1)\n",
    "    except Exception as e:\n",
    "        print(information)\n",
    "        print(\"Exception\",e)\n"
   ]
  },
  {
   "cell_type": "code",
   "execution_count": 9,
   "metadata": {},
   "outputs": [],
   "source": [
    "def getCS(information,puuid):\n",
    "    participant = information['metadata']['participants'].index(puuid)\n",
    "    cs = information['info']['participants'][participant]['totalMinionsKilled']\n",
    "    minutes = int(information['info']['gameDuration'])/60\n",
    "    #print(cs/minutes)\n",
    "    return cs/minutes"
   ]
  },
  {
   "cell_type": "code",
   "execution_count": 10,
   "metadata": {},
   "outputs": [
    {
     "name": "stdout",
     "output_type": "stream",
     "text": [
      "16462\n"
     ]
    }
   ],
   "source": [
    "print(len(ironLadder))"
   ]
  },
  {
   "cell_type": "code",
   "execution_count": null,
   "metadata": {},
   "outputs": [],
   "source": [
    "#First get 3000 matches\n",
    "#For each match, find the KDA of each person "
   ]
  },
  {
   "cell_type": "code",
   "execution_count": 12,
   "metadata": {},
   "outputs": [
    {
     "name": "stdout",
     "output_type": "stream",
     "text": [
      "10\n",
      "20\n",
      "30\n",
      "40\n"
     ]
    },
    {
     "ename": "KeyboardInterrupt",
     "evalue": "",
     "output_type": "error",
     "traceback": [
      "\u001b[1;31m---------------------------------------------------------------------------\u001b[0m",
      "\u001b[1;31mKeyboardInterrupt\u001b[0m                         Traceback (most recent call last)",
      "Cell \u001b[1;32mIn[12], line 21\u001b[0m\n\u001b[0;32m     19\u001b[0m \u001b[38;5;28;01mif\u001b[39;00m \u001b[38;5;28mlen\u001b[39m(average_iron_1) \u001b[38;5;241m%\u001b[39m \u001b[38;5;241m10\u001b[39m \u001b[38;5;241m==\u001b[39m \u001b[38;5;241m0\u001b[39m:\n\u001b[0;32m     20\u001b[0m     \u001b[38;5;28mprint\u001b[39m(\u001b[38;5;28mlen\u001b[39m(average_iron_1))\n\u001b[1;32m---> 21\u001b[0m     \u001b[43mtime\u001b[49m\u001b[38;5;241;43m.\u001b[39;49m\u001b[43msleep\u001b[49m\u001b[43m(\u001b[49m\u001b[38;5;241;43m120\u001b[39;49m\u001b[43m)\u001b[49m\n",
      "\u001b[1;31mKeyboardInterrupt\u001b[0m: "
     ]
    }
   ],
   "source": [
    "# For each person in the ladder, look at their 10-20 games and get their average cs per min, KDA\n",
    "average_iron_1 = pd.DataFrame({'puuid':[],'KDA':[],'CS/Min':[]})\n",
    "for i in ironLadder.itertuples():\n",
    "    time.sleep(10)\n",
    "    puuid = get_puuid(i.summonerId)\n",
    "    matches = getListMatches(puuid=puuid,start = 10,count = 10)\n",
    "    kda_mean = 0 \n",
    "    cs_mean = 0 \n",
    "    for m in matches:\n",
    "        information = getMatch(m)\n",
    "        kda = getKDA(information,puuid)\n",
    "        cs = getCS(information,puuid)\n",
    "        kda_mean += kda\n",
    "        cs_mean += cs\n",
    "    kda_mean= kda_mean/len(matches)\n",
    "    cs_mean = cs_mean/len(matches)\n",
    "    new_row = pd.DataFrame({'puuid':[puuid],'KDA':[kda_mean],'CS/Min':[cs_mean]})\n",
    "    average_iron_1 = pd.concat([average_iron_1,new_row],ignore_index=True)\n",
    "    if len(average_iron_1) % 10 == 0:\n",
    "        print(len(average_iron_1))\n",
    "        time.sleep(120)\n"
   ]
  },
  {
   "cell_type": "code",
   "execution_count": null,
   "metadata": {},
   "outputs": [],
   "source": [
    "ironLadder['summonerId'] = ironLadder['summonerId'].map(average_iron_1)"
   ]
  }
 ],
 "metadata": {
  "kernelspec": {
   "display_name": "venv",
   "language": "python",
   "name": "python3"
  },
  "language_info": {
   "codemirror_mode": {
    "name": "ipython",
    "version": 3
   },
   "file_extension": ".py",
   "mimetype": "text/x-python",
   "name": "python",
   "nbconvert_exporter": "python",
   "pygments_lexer": "ipython3",
   "version": "3.12.3"
  }
 },
 "nbformat": 4,
 "nbformat_minor": 2
}
