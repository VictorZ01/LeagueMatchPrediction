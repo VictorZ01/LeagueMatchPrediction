{
 "cells": [
  {
   "cell_type": "code",
   "execution_count": 1,
   "metadata": {},
   "outputs": [],
   "source": [
    "from dotenv import load_dotenv\n",
    "import os\n",
    "\n",
    "load_dotenv()\n",
    "api_key = os.environ.get('riot_api_key')\n"
   ]
  },
  {
   "cell_type": "code",
   "execution_count": 2,
   "metadata": {},
   "outputs": [],
   "source": [
    "import pygsheets \n",
    "google_url = os.environ.get('google_url')\n",
    "service_account = pygsheets.authorize(service_account_file = 'JSONS\\\\spreadsheet-automator-447604-0758cb3da318.json')\n",
    "sheet = service_account.open_by_url(google_url)"
   ]
  },
  {
   "cell_type": "code",
   "execution_count": 3,
   "metadata": {},
   "outputs": [],
   "source": [
    "import pandas as pd \n",
    "import requests\n",
    "import time\n",
    "def getLadder(rank,division):\n",
    "    divisions = ['II','III','IV']\n",
    "    page = pd.DataFrame()\n",
    "    root = 'https://na1.api.riotgames.com/'\n",
    "    meta = f'lol/league/v4/entries/RANKED_SOLO_5x5/{rank}/{division}?page=1'\n",
    "    api_url = root + meta + '&api_key=' + api_key\n",
    "    api_response = requests.get(api_url)\n",
    "    api_df = pd.DataFrame(api_response.json())\n",
    "    page = pd.concat([page,api_df])\n",
    "    page_num = 2 \n",
    "    while not api_df.empty:\n",
    "        meta = f'lol/league/v4/entries/RANKED_SOLO_5x5/{rank}/{division}?page={page_num}'\n",
    "        api_url = root + meta + '&api_key=' + api_key\n",
    "        api_response = requests.get(api_url)\n",
    "        api_df = pd.DataFrame(api_response.json())\n",
    "        page = pd.concat([page,api_df])\n",
    "        page_num+=1\n",
    "        time.sleep(1)\n",
    "    return page"
   ]
  },
  {
   "cell_type": "code",
   "execution_count": 4,
   "metadata": {},
   "outputs": [],
   "source": [
    "def get_puuid(summoner_id):\n",
    "    root = 'https://na1.api.riotgames.com/lol/summoner/v4/summoners/'\n",
    "    api_url = root + summoner_id + '?api_key=' + api_key\n",
    "    page = requests.get(api_url)\n",
    "    return page.json()['puuid']"
   ]
  },
  {
   "cell_type": "code",
   "execution_count": 5,
   "metadata": {},
   "outputs": [],
   "source": [
    "if os.path.exists('ironLadder.csv'):\n",
    "    ironLadder = pd.read_csv('ironLadder.csv')\n",
    "else:\n",
    "    ironLadder = getLadder('IRON','I').sort_values('leaguePoints',ascending=False).reset_index(drop=True)\n",
    "    ironLadder.to_csv('ironLadder.csv',index=False)\n",
    "    print('Not found')"
   ]
  },
  {
   "cell_type": "code",
   "execution_count": 6,
   "metadata": {},
   "outputs": [],
   "source": [
    "def getMatch(matchID):\n",
    "    root = 'https://americas.api.riotgames.com/lol/match/v5/matches/'\n",
    "    middle = '?api_key='\n",
    "    api_url = root + matchID + middle + api_key\n",
    "    time.sleep(1)\n",
    "    result = requests.get(api_url)\n",
    "    if result.status_code != 200:\n",
    "        raise Exception(\"Status Code:\",result.status_code)\n",
    "    \n",
    "    return result.json()"
   ]
  },
  {
   "cell_type": "code",
   "execution_count": 7,
   "metadata": {},
   "outputs": [],
   "source": [
    "def getListMatches(puuid,start,count):\n",
    "    root = 'https://americas.api.riotgames.com/lol/match/v5/matches/by-puuid/'\n",
    "    middle = '/ids?type=ranked&'\n",
    "    part = 'start='+str(start)+'&count='+str(count)\n",
    "    api_url = root +str(puuid)+middle + part + '&api_key=' + api_key\n",
    "    page = requests.get(api_url).json()\n",
    "    return page "
   ]
  },
  {
   "cell_type": "code",
   "execution_count": 8,
   "metadata": {},
   "outputs": [],
   "source": [
    "def getKDA(information,puuid):\n",
    "    kda = 0\n",
    "    try:\n",
    "        participant = information['metadata']['participants'].index(puuid)\n",
    "        kills = information['info']['participants'][participant]['kills']\n",
    "        deaths = information['info']['participants'][participant]['deaths']\n",
    "        assists = information['info']['participants'][participant]['assists']\n",
    "        #print(information['info']['participants'][participant]['championName'])\n",
    "        return (kills+assists)/max(deaths,1)\n",
    "    except Exception as e:\n",
    "        print(information)\n",
    "        print(\"Exception\",e)\n"
   ]
  },
  {
   "cell_type": "code",
   "execution_count": 9,
   "metadata": {},
   "outputs": [],
   "source": [
    "def getCS(information,puuid):\n",
    "    participant = information['metadata']['participants'].index(puuid)\n",
    "    cs = information['info']['participants'][participant]['totalMinionsKilled']\n",
    "    minutes = int(information['info']['gameDuration'])/60\n",
    "    #print(cs/minutes)\n",
    "    return cs/minutes"
   ]
  },
  {
   "cell_type": "code",
   "execution_count": null,
   "metadata": {},
   "outputs": [],
   "source": [
    "def getRank(puuid):\n",
    "    root_summoner = 'https://na1.api.riotgames.com/lol/summoner/v4/summoners/by-puuid/'\n",
    "    summoner_api = root_summoner + puuid + '?api_key=' +api_key\n",
    "    json = requests.get(summoner_api).json\n",
    "    summoner_id = json['id']\n",
    "    url = 'https://na1.api.riotgames.com/lol/league/v4/entries/by-summoner/3ai6QdnIOPfEzwy7sYkVOi56s7PL_8bQUpC7csAdOdCSBBjd?api_key=RGAPI-2f8a1ee5-ee95-4d42-a15e-d545e08b9e5e'\n",
    "    root_rank = 'https://na1.api.riotgames.com/lol/league/v4/entries/by-summoner/'\n",
    "    rank_api = root_rank + summoner_api + '?api_key=' + api_key\n",
    "    json1 = requests.get(rank_api).json\n",
    "    return json1['tier'],json1['rank']"
   ]
  },
  {
   "cell_type": "code",
   "execution_count": 20,
   "metadata": {},
   "outputs": [],
   "source": [
    "def createPlayerDataBase():\n",
    "    if os.path.exists('playerDataBase.csv'):\n",
    "        playerDataBase = pd.read_csv('playerDataBase.csv')\n",
    "    else:\n",
    "        playerDataBase = pd.DataFrame({'puuid':[],'rank':[],'KDA':[],'CS/Min':[]})    \n",
    "    return playerDataBase"
   ]
  },
  {
   "cell_type": "code",
   "execution_count": 18,
   "metadata": {},
   "outputs": [],
   "source": [
    "def createMatchDataBase():\n",
    "    if os.path.exists('matchDataBase.csv'):\n",
    "        matchDataBase = pd.read_csv('matchDataBase.csv')\n",
    "    else:\n",
    "        matchDataBase = pd.DataFrame({'matchId':[],\n",
    "                                      'player1':[],'rank':[],'KDA':[],'CS/Min':[],'Mastery':[],\n",
    "                                      'player2':[],'rank':[],'KDA':[],'CS/Min':[],'Mastery':[],\n",
    "                                      'player3':[],'rank':[],'KDA':[],'CS/Min':[],'Mastery':[],\n",
    "                                      'player4':[],'rank':[],'KDA':[],'CS/Min':[],'Mastery':[],\n",
    "                                      'player5':[],'rank':[],'KDA':[],'CS/Min':[],'Mastery':[],\n",
    "                                      'player6':[],'rank':[],'KDA':[],'CS/Min':[],'Mastery':[],\n",
    "                                      'player7':[],'rank':[],'KDA':[],'CS/Min':[],'Mastery':[],\n",
    "                                      'player8':[],'rank':[],'KDA':[],'CS/Min':[],'Mastery':[],\n",
    "                                      'player9':[],'rank':[],'KDA':[],'CS/Min':[],'Mastery':[],\n",
    "                                      'player10':[],'rank':[],'KDA':[],'CS/Min':[],'Mastery':[],\n",
    "                                      })\n",
    "    return matchDataBase"
   ]
  },
  {
   "cell_type": "code",
   "execution_count": 11,
   "metadata": {},
   "outputs": [],
   "source": [
    "#First get 1 match ID\n",
    "#For each player in said match, if already in database, write down puuid and get match history from last ten matches, appending to player database their stats[Rank,KDA,CS/min]\n",
    "#In each match, champion mastery, [Rank,KDA,Cs/min,win/lose] is placed in order from top to bottom in the match database\n",
    "#Get a random match from a list of 10 and save the match id\n",
    "#repeat until 10000 entries in match database "
   ]
  },
  {
   "cell_type": "code",
   "execution_count": null,
   "metadata": {},
   "outputs": [],
   "source": [
    "#Given matchID, look at all the players and see if you need to add them to the playerDataBase\n",
    "#Returns a new matchID\n",
    "def addToDataBase(matchID,playerDataBase):\n",
    "    single_match = getMatch(matchID)\n",
    "    participant_names = single_match['metadata']['participants']\n",
    "    participant_datas = single_match['info']['participants']\n",
    "    playerMiniBase = pd.DataFrame\n",
    "    for participant_name in participant_names:\n",
    "        if not participant_name in playerDataBase['puuid'].values:\n",
    "            matches = getListMatches(participant_name,start = 10,count = 10)\n",
    "            kda_mean = 0 \n",
    "            cs_mean = 0 \n",
    "            for m in matches:\n",
    "                information = getMatch(m)\n",
    "                kda = getKDA(information,participant_name)\n",
    "                cs = getCS(information,participant_name)\n",
    "                kda_mean += kda\n",
    "                cs_mean += cs\n",
    "            tier,tier_num = getRank(participant_name)\n",
    "            kda_mean= kda_mean/len(matches)\n",
    "            cs_mean = cs_mean/len(matches)\n",
    "            new_row = pd.DataFrame({'puuid':[participant_name],'rank':[rank],'KDA':[kda_mean],'Cs/Min':[cs_mean]})\n",
    "        playerMiniBase = pd.concat([playerMiniBase,new_row],ignore_index=True)"
   ]
  },
  {
   "cell_type": "code",
   "execution_count": null,
   "metadata": {},
   "outputs": [],
   "source": [
    "def fillDataBase(matchID):\n",
    "    matchDataBase = createMatchDataBase()\n",
    "    playerDataBase = createPlayerDataBase()\n",
    "    while len(matchDataBase) < 10000:\n",
    "        new_line,newMatchID = addToDataBase(matchID,playerDataBase)\n",
    "        \n",
    "        "
   ]
  },
  {
   "cell_type": "code",
   "execution_count": null,
   "metadata": {},
   "outputs": [
    {
     "name": "stdout",
     "output_type": "stream",
     "text": [
      "['qz_Xlpl6K90kiWzx6wBHhLIjsZKCt1RsJSI7UKtxzUB2ipvlkhxxanLt6srwC-lsIYTYchsapXAFig', 'eqrp-WeBQFTsq5w6-3QrX_27CAo8Jup6bawyrw9Y5M24lyrkkPPnQTDQ4Oyda25drlvp4MjZg5-3aQ', 'b6neNj_YKfGRuREW1LmaoTMWKF7cYdBc107QngNysELCCf0G_O7fZCnmMiXSDCw8lW6dee1EEWt4Tg', 'Tfnc-ixkF3TJ-6KcpSWfP8FEn1QfoeKnpGY3xcIQPiutac_l4Z_-HKEooa1EWx6lYDOz13vPZBSj9w', 'bNb9sdI2l0xqFDHUD_6E60qoCFjo7xNe4xiFhHKL6IsL1LlDW1VUjytR9W3EveIT1ZU-Q7RNfAMjxA', 'SfYpikaXAuZZEqyOC4A3WakIbR_lYb8VQapRhI0t6-fMPspA6T9OHdDSA8YlE17u2mvZxAbOCSqgIg', 'WftUymJJaAHwyZepZ-CnrPeHEYpDG6GehFghJ5Okq6L2uCda2_7QUViX_bfKv_P-2lc1QKD3nHmYWg', 'tvxSymXYy7dfzv0DTqnoEXc6C8s5FFZBRehTzN5KtYZSOcn4c3lJg17sZGMYvH_j5bO_GRI0ghEZEg', '9fUKh6vk2ewVEpyDznEniYFgJmHqiNnFnbXq5dOsIBWNoKEf0XEqWBjA5HAY1rSBVmne-EhEMexg_Q', 'PA-GMefU3a_H-n09lA-gA27L7Au7iLEW7KfF4yUr2z8Lb5D3f4NWPV2f7zC04jSvJd_kiJpgdExIWw']\n",
      "{'allInPings': 0, 'assistMePings': 0, 'assists': 20, 'baronKills': 0, 'basicPings': 0, 'bountyLevel': 3, 'challenges': {'12AssistStreakCount': 0, 'HealFromMapSources': 0, 'InfernalScalePickup': 0, 'SWARM_DefeatAatrox': 0, 'SWARM_DefeatBriar': 0, 'SWARM_DefeatMiniBosses': 0, 'SWARM_EvolveWeapon': 0, 'SWARM_Have3Passives': 0, 'SWARM_KillEnemy': 0, 'SWARM_PickupGold': 0, 'SWARM_ReachLevel50': 0, 'SWARM_Survive15Min': 0, 'SWARM_WinWith5EvolvedWeapons': 0, 'abilityUses': 221, 'acesBefore15Minutes': 0, 'alliedJungleMonsterKills': 0, 'baronBuffGoldAdvantageOverThreshold': 1, 'baronTakedowns': 1, 'blastConeOppositeOpponentCount': 0, 'bountyGold': 0, 'buffsStolen': 0, 'completeSupportQuestInTime': 0, 'controlWardTimeCoverageInRiverOrEnemyHalf': 0.554331844164004, 'controlWardsPlaced': 3, 'damagePerMinute': 261.4870459404461, 'damageTakenOnTeamPercentage': 0.14569447591872495, 'dancedWithRiftHerald': 0, 'deathsByEnemyChamps': 6, 'dodgeSkillShotsSmallWindow': 1, 'doubleAces': 0, 'dragonTakedowns': 3, 'earliestBaron': 1900.476049237, 'earliestDragonTakedown': 761.638245351, 'earlyLaningPhaseGoldExpAdvantage': 0, 'effectiveHealAndShielding': 15671.357421875, 'elderDragonKillsWithOpposingSoul': 0, 'elderDragonMultikills': 0, 'enemyChampionImmobilizations': 32, 'enemyJungleMonsterKills': 0, 'epicMonsterKillsNearEnemyJungler': 0, 'epicMonsterKillsWithin30SecondsOfSpawn': 0, 'epicMonsterSteals': 0, 'epicMonsterStolenWithoutSmite': 0, 'firstTurretKilled': 0, 'fistBumpParticipation': 0, 'flawlessAces': 1, 'fullTeamTakedown': 4, 'gameLength': 2441.845986877, 'getTakedownsInAllLanesEarlyJungleAsLaner': 0, 'goldPerMinute': 268.90936506034683, 'hadOpenNexus': 0, 'immobilizeAndKillWithAlly': 7, 'initialBuffCount': 0, 'initialCrabCount': 0, 'jungleCsBefore10Minutes': 0, 'junglerTakedownsNearDamagedEpicMonster': 0, 'kTurretsDestroyedBeforePlatesFall': 0, 'kda': 3.8333333333333335, 'killAfterHiddenWithAlly': 4, 'killParticipation': 0.6571428571428571, 'killedChampTookFullTeamDamageSurvived': 0, 'killingSprees': 0, 'killsNearEnemyTurret': 1, 'killsOnOtherLanesEarlyJungleAsLaner': 0, 'killsOnRecentlyHealedByAramPack': 0, 'killsUnderOwnTurret': 0, 'killsWithHelpFromEpicMonster': 0, 'knockEnemyIntoTeamAndKill': 0, 'landSkillShotsEarlyGame': 3, 'laneMinionsFirst10Minutes': 18, 'laningPhaseGoldExpAdvantage': 0, 'legendaryCount': 0, 'legendaryItemUsed': [4005, 3870, 2065, 6616], 'lostAnInhibitor': 1, 'maxCsAdvantageOnLaneOpponent': 9, 'maxKillDeficit': 3, 'maxLevelLeadLaneOpponent': 2, 'mejaisFullStackInTime': 0, 'moreEnemyJungleThanOpponent': 0, 'multiKillOneSpell': 0, 'multiTurretRiftHeraldCount': 0, 'multikills': 0, 'multikillsAfterAggressiveFlash': 0, 'outerTurretExecutesBefore10Minutes': 0, 'outnumberedKills': 0, 'outnumberedNexusKill': 0, 'perfectDragonSoulsTaken': 0, 'perfectGame': 0, 'pickKillWithAlly': 16, 'playedChampSelectPosition': 1, 'poroExplosions': 0, 'quickCleanse': 0, 'quickFirstTurret': 0, 'quickSoloKills': 0, 'riftHeraldTakedowns': 0, 'saveAllyFromDeath': 1, 'scuttleCrabKills': 0, 'skillshotsDodged': 41, 'skillshotsHit': 30, 'snowballsHit': 0, 'soloBaronKills': 0, 'soloKills': 0, 'stealthWardsPlaced': 37, 'survivedSingleDigitHpCount': 0, 'survivedThreeImmobilizesInFight': 0, 'takedownOnFirstTurret': 1, 'takedowns': 23, 'takedownsAfterGainingLevelAdvantage': 0, 'takedownsBeforeJungleMinionSpawn': 0, 'takedownsFirstXMinutes': 2, 'takedownsInAlcove': 0, 'takedownsInEnemyFountain': 0, 'teamBaronKills': 1, 'teamDamagePercentage': 0.07072200768371986, 'teamElderDragonKills': 0, 'teamRiftHeraldKills': 0, 'tookLargeDamageSurvived': 0, 'turretPlatesTaken': 0, 'turretTakedowns': 7, 'turretsTakenWithRiftHerald': 0, 'twentyMinionsIn3SecondsCount': 0, 'twoWardsOneSweeperCount': 1, 'unseenRecalls': 0, 'visionScoreAdvantageLaneOpponent': -0.0419926643371582, 'visionScorePerMinute': 2.1065560125836433, 'voidMonsterKill': 1, 'wardTakedowns': 9, 'wardTakedownsBefore20M': 7, 'wardsGuarded': 0}, 'champExperience': 17035, 'champLevel': 17, 'championId': 267, 'championName': 'Nami', 'championTransform': 0, 'commandPings': 7, 'consumablesPurchased': 5, 'damageDealtToBuildings': 2678, 'damageDealtToObjectives': 6180, 'damageDealtToTurrets': 2678, 'damageSelfMitigated': 12130, 'dangerPings': 0, 'deaths': 6, 'detectorWardsPlaced': 3, 'doubleKills': 0, 'dragonKills': 0, 'eligibleForProgression': True, 'enemyMissingPings': 2, 'enemyVisionPings': 0, 'firstBloodAssist': False, 'firstBloodKill': False, 'firstTowerAssist': False, 'firstTowerKill': False, 'gameEndedInEarlySurrender': False, 'gameEndedInSurrender': False, 'getBackPings': 0, 'goldEarned': 10943, 'goldSpent': 8325, 'holdPings': 0, 'individualPosition': 'UTILITY', 'inhibitorKills': 1, 'inhibitorTakedowns': 2, 'inhibitorsLost': 2, 'item0': 2065, 'item1': 3870, 'item2': 3158, 'item3': 4005, 'item4': 6616, 'item5': 0, 'item6': 3364, 'itemsPurchased': 22, 'killingSprees': 1, 'kills': 3, 'lane': 'BOTTOM', 'largestCriticalStrike': 0, 'largestKillingSpree': 2, 'largestMultiKill': 1, 'longestTimeSpentLiving': 616, 'magicDamageDealt': 26887, 'magicDamageDealtToChampions': 9428, 'magicDamageTaken': 13954, 'missions': {'playerScore0': 0, 'playerScore1': 0, 'playerScore2': 0, 'playerScore3': 0, 'playerScore4': 0, 'playerScore5': 0, 'playerScore6': 0, 'playerScore7': 0, 'playerScore8': 0, 'playerScore9': 0, 'playerScore10': 0, 'playerScore11': 0}, 'needVisionPings': 0, 'neutralMinionsKilled': 0, 'nexusKills': 0, 'nexusLost': 0, 'nexusTakedowns': 1, 'objectivesStolen': 0, 'objectivesStolenAssists': 0, 'onMyWayPings': 4, 'participantId': 10, 'pentaKills': 0, 'perks': {'statPerks': {'defense': 5001, 'flex': 5008, 'offense': 5008}, 'styles': [{'description': 'primaryStyle', 'selections': [{'perk': 8214, 'var1': 937, 'var2': 1643, 'var3': 0}, {'perk': 8226, 'var1': 250, 'var2': 241, 'var3': 0}, {'perk': 8210, 'var1': 26, 'var2': 0, 'var3': 0}, {'perk': 8237, 'var1': 276, 'var2': 0, 'var3': 0}], 'style': 8200}, {'description': 'subStyle', 'selections': [{'perk': 8345, 'var1': 3, 'var2': 0, 'var3': 109}, {'perk': 8347, 'var1': 0, 'var2': 0, 'var3': 0}], 'style': 8300}]}, 'physicalDamageDealt': 10775, 'physicalDamageDealtToChampions': 947, 'physicalDamageTaken': 9984, 'placement': 0, 'playerAugment1': 0, 'playerAugment2': 0, 'playerAugment3': 0, 'playerAugment4': 0, 'playerAugment5': 0, 'playerAugment6': 0, 'playerSubteamId': 0, 'profileIcon': 536, 'pushPings': 0, 'puuid': 'PA-GMefU3a_H-n09lA-gA27L7Au7iLEW7KfF4yUr2z8Lb5D3f4NWPV2f7zC04jSvJd_kiJpgdExIWw', 'quadraKills': 0, 'retreatPings': 0, 'riotIdGameName': 'I is bear', 'riotIdTagline': 'NA1', 'role': 'SUPPORT', 'sightWardsBoughtInGame': 0, 'spell1Casts': 44, 'spell2Casts': 99, 'spell3Casts': 65, 'spell4Casts': 13, 'subteamPlacement': 0, 'summoner1Casts': 6, 'summoner1Id': 4, 'summoner2Casts': 5, 'summoner2Id': 7, 'summonerId': '55qbfVUXMKhOv_wNxtOisqRAcdge-eMZSJwFsgPp3gk-YG4', 'summonerLevel': 231, 'summonerName': 'I is bear', 'teamEarlySurrendered': False, 'teamId': 200, 'teamPosition': 'UTILITY', 'timeCCingOthers': 42, 'timePlayed': 2441, 'totalAllyJungleMinionsKilled': 0, 'totalDamageDealt': 41483, 'totalDamageDealtToChampions': 10641, 'totalDamageShieldedOnTeammates': 1790, 'totalDamageTaken': 24843, 'totalEnemyJungleMinionsKilled': 0, 'totalHeal': 21264, 'totalHealsOnTeammates': 13880, 'totalMinionsKilled': 55, 'totalTimeCCDealt': 207, 'totalTimeSpentDead': 186, 'totalUnitsHealed': 5, 'tripleKills': 0, 'trueDamageDealt': 3820, 'trueDamageDealtToChampions': 266, 'trueDamageTaken': 905, 'turretKills': 1, 'turretTakedowns': 7, 'turretsLost': 6, 'unrealKills': 0, 'visionClearedPings': 0, 'visionScore': 85, 'visionWardsBoughtInGame': 3, 'wardsKilled': 8, 'wardsPlaced': 40, 'win': True}\n"
     ]
    }
   ],
   "source": [
    "createMatchDataBase('NA1_5206345700')"
   ]
  },
  {
   "cell_type": "code",
   "execution_count": 12,
   "metadata": {},
   "outputs": [
    {
     "name": "stdout",
     "output_type": "stream",
     "text": [
      "10\n",
      "20\n",
      "30\n",
      "40\n"
     ]
    },
    {
     "ename": "KeyboardInterrupt",
     "evalue": "",
     "output_type": "error",
     "traceback": [
      "\u001b[1;31m---------------------------------------------------------------------------\u001b[0m",
      "\u001b[1;31mKeyboardInterrupt\u001b[0m                         Traceback (most recent call last)",
      "Cell \u001b[1;32mIn[12], line 21\u001b[0m\n\u001b[0;32m     19\u001b[0m \u001b[38;5;28;01mif\u001b[39;00m \u001b[38;5;28mlen\u001b[39m(average_iron_1) \u001b[38;5;241m%\u001b[39m \u001b[38;5;241m10\u001b[39m \u001b[38;5;241m==\u001b[39m \u001b[38;5;241m0\u001b[39m:\n\u001b[0;32m     20\u001b[0m     \u001b[38;5;28mprint\u001b[39m(\u001b[38;5;28mlen\u001b[39m(average_iron_1))\n\u001b[1;32m---> 21\u001b[0m     \u001b[43mtime\u001b[49m\u001b[38;5;241;43m.\u001b[39;49m\u001b[43msleep\u001b[49m\u001b[43m(\u001b[49m\u001b[38;5;241;43m120\u001b[39;49m\u001b[43m)\u001b[49m\n",
      "\u001b[1;31mKeyboardInterrupt\u001b[0m: "
     ]
    }
   ],
   "source": [
    "def appendStats():\n",
    "    average_iron_1 = pd.DataFrame({'puuid':[],'KDA':[],'CS/Min':[]})\n",
    "    for i in ironLadder.itertuples():\n",
    "        time.sleep(10)\n",
    "        puuid = get_puuid(i.summonerId)\n",
    "        matches = getListMatches(puuid=puuid,start = 10,count = 10)\n",
    "        kda_mean = 0 \n",
    "        cs_mean = 0 \n",
    "        for m in matches:\n",
    "            information = getMatch(m)\n",
    "            kda = getKDA(information,puuid)\n",
    "            cs = getCS(information,puuid)\n",
    "            kda_mean += kda\n",
    "            cs_mean += cs\n",
    "        kda_mean= kda_mean/len(matches)\n",
    "        cs_mean = cs_mean/len(matches)\n",
    "        new_row = pd.DataFrame({'puuid':[puuid],'KDA':[kda_mean],'CS/Min':[cs_mean]})\n",
    "        average_iron_1 = pd.concat([average_iron_1,new_row],ignore_index=True)\n",
    "        if len(average_iron_1) % 10 == 0:\n",
    "            print(len(average_iron_1))\n",
    "            time.sleep(120)\n"
   ]
  },
  {
   "cell_type": "code",
   "execution_count": null,
   "metadata": {},
   "outputs": [],
   "source": [
    "ironLadder['summonerId'] = ironLadder['summonerId'].map(average_iron_1)"
   ]
  }
 ],
 "metadata": {
  "kernelspec": {
   "display_name": "venv",
   "language": "python",
   "name": "python3"
  },
  "language_info": {
   "codemirror_mode": {
    "name": "ipython",
    "version": 3
   },
   "file_extension": ".py",
   "mimetype": "text/x-python",
   "name": "python",
   "nbconvert_exporter": "python",
   "pygments_lexer": "ipython3",
   "version": "3.12.3"
  }
 },
 "nbformat": 4,
 "nbformat_minor": 2
}
